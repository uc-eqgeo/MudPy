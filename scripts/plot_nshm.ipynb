{
 "cells": [
  {
   "cell_type": "code",
   "execution_count": 1,
   "metadata": {},
   "outputs": [],
   "source": [
    "# %%\n",
    "import os\n",
    "import matplotlib.pyplot as plt\n",
    "import numpy as np\n",
    "import pandas as pd\n",
    "import geopandas as gpd\n",
    "import pickle\n",
    "# %%\n",
    "\n",
    "procdir = \"C:/Users/jmc753/Work/occ-coseismic/data/sz_solutions/\"\n",
    "branch = \"NZSHM22_ScaledInversionSolution-QXV0b21hdGlvblRhc2s6MTA3NzE0\"\n",
    "rate_file = os.path.join(procdir, branch, \"solution\", \"rates.csv\")\n",
    "indicies_file = os.path.join(procdir, branch, \"ruptures\", \"indices.csv\")\n",
    "slip_file = os.path.join(procdir, branch, \"ruptures\", \"average_slips.csv\")\n",
    "geometry_file = \"C:/Users/jmc753/Work/occ-coseismic/subduction/discretised_hikkerk/sz_all_rectangle_outlines.geojson\"\n",
    "event_ids = [1733]\n",
    "\n",
    "\n"
   ]
  },
  {
   "cell_type": "code",
   "execution_count": 2,
   "metadata": {},
   "outputs": [],
   "source": [
    "for event_id in event_ids:\n",
    "    patch_gdf = gpd.read_file(geometry_file)\n",
    "    patch_gdf['slip'] = 0.\n",
    "\n",
    "    av_slip_df = pd.read_csv(slip_file, index_col='Rupture Index')\n",
    "    av_slip = av_slip_df.loc[event_id, 'Average Slip (m)']\n",
    "\n",
    "    indices_df = pd.read_csv(indicies_file, index_col='Rupture Index')\n",
    "    indicies = np.array(indices_df.loc[event_id][1:].dropna(), dtype=int)\n",
    "    patch_gdf = patch_gdf.loc[indicies]\n",
    "    patch_gdf['slip'] = np.log10(av_slip)\n",
    "\n",
    "    rupture_dir = 'Z:\\\\McGrath\\\\HikurangiFakeQuakes\\\\hikkerk3D_hires\\\\output\\\\ruptures\\\\'\n",
    "    rupture_png_dir = os.path.abspath(os.path.dirname(rupture_dir) + '/..\\\\rupture_pngs\\\\')\n",
    "\n",
    "    fig, ax = pickle.load(open(f\"{rupture_png_dir}/temp.pkl\", \"rb\"))\n",
    "    bounds = (1500000, 5250000, 3000000, 7000000)\n",
    "    min_slip, max_slip = 0.1, 50\n",
    "    ticks = np.arange(np.log10(min_slip), np.log10(max_slip), 1)\n",
    "    ticks = list(10**ticks) + [max_slip]\n",
    "    patch_gdf.plot(column=patch_gdf['slip'], ax=ax['main_figure'], cmap='magma', vmin=np.log10(min_slip), \n",
    "                   vmax=np.log10(max_slip), legend=True, \n",
    "                   legend_kwds={'label': \"Slip (m)\", 'orientation': 'vertical', 'ticks': [np.log10(tick) for tick in ticks]})\n",
    "    cbar = ax['main_figure'].get_figure().get_axes()[-1]\n",
    "    cbar.set_yticklabels([f'{tick:.2f}' for tick in ticks])\n",
    "\n",
    "    coastfile = \"C:/Users/jmc753/Work/occ-coseismic/data/coastline/nz_coastline.geojson\"\n",
    "    coastline = gpd.read_file(coastfile)\n",
    "    coastline.plot(ax=ax[\"main_figure\"], color=\"k\", linewidth=0.5)\n",
    "    #plt.title(f\"ev{event_id}\")\n",
    "    fig.savefig(f\"{rupture_png_dir}/NSHM_ev{event_id}.png\", dpi=300)\n",
    "    fig.savefig(f\"{rupture_png_dir}/NSHM_ev{event_id}.pdf\", dpi=300, format='pdf')\n",
    "    plt.close()"
   ]
  }
 ],
 "metadata": {
  "kernelspec": {
   "display_name": "jack",
   "language": "python",
   "name": "python3"
  },
  "language_info": {
   "codemirror_mode": {
    "name": "ipython",
    "version": 3
   },
   "file_extension": ".py",
   "mimetype": "text/x-python",
   "name": "python",
   "nbconvert_exporter": "python",
   "pygments_lexer": "ipython3",
   "version": "3.10.13"
  }
 },
 "nbformat": 4,
 "nbformat_minor": 2
}
